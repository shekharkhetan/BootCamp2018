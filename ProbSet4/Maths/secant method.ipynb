{
 "cells": [
  {
   "cell_type": "code",
   "execution_count": 2,
   "metadata": {},
   "outputs": [
    {
     "name": "stdout",
     "output_type": "stream",
     "text": [
      "distance at iteration number 0 is:  0.32692307692307687\n",
      "distance at iteration number 1 is:  1.3880597014925353\n",
      "distance at iteration number 2 is:  3.046681310958396\n",
      "distance at iteration number 3 is:  0.14130022009747434\n",
      "distance at iteration number 4 is:  0.17697232280952813\n",
      "distance at iteration number 5 is:  0.03598505043138073\n",
      "distance at iteration number 6 is:  0.002419537023709315\n",
      "distance at iteration number 7 is:  3.256093707387743e-05\n",
      "distance at iteration number 8 is:  3.30332402729823e-08\n",
      "distance at iteration number 9 is:  4.437286234942179e-13\n"
     ]
    },
    {
     "data": {
      "image/png": "[encoded data removed]",
      "text/plain": [
       "<Figure size 432x288 with 1 Axes>"
      ]
     },
     "metadata": {},
     "output_type": "display_data"
    },
    {
     "name": "stdout",
     "output_type": "stream",
     "text": [
      "The value of x at the minimum is:  0.7808840530880757\n"
     ]
    }
   ],
   "source": [
    "import numpy as np\n",
    "import matplotlib.pyplot as plt\n",
    "\n",
    "def f_x(x):\n",
    "    f_x = (x**4)- (14* x**3) + (60*x**2) - 70*x\n",
    "    return f_x\n",
    "\n",
    "def fprime(x):\n",
    "    a = 4*(x**3) - 42*(x**2) + 120*x - 70\n",
    "    return a\n",
    "\n",
    "def secant(x0, x1, epsilon):\n",
    "    itermax=1000\n",
    "    dist = 5\n",
    "    iter = 0\n",
    "    xvec = np.empty(0)\n",
    "    xvec = np.append(xvec,x0)'''creating an array of two guesses to be passed as an input'''\n",
    "    xvec = np.append(xvec,x1)\n",
    "    '''Now we are trying to create a while loop which allows for calculating the secant method through follwing equation\n",
    "    \\begin{equation*}\n",
    "     $$ x_{k+1} = x_{k} - f'(x_{k})\\frac{x_{k}-x_{k-1}}{f'(x_{k})-f'(x_{k-1})} $$\n",
    "    \\end{equation*}\n",
    "     '''\n",
    "    while (iter < itermax) & (dist > epsilon):\n",
    "        x = xvec[-1] - (fprime(xvec[-1]))*((xvec[-1] - xvec[-2])/(fprime(xvec[-1]) - fprime(xvec[-2])))\n",
    "        xvec = np.append(xvec,x)\n",
    "        dist = np.abs(xvec[-1] - xvec[-2])/np.abs(xvec[-2])\n",
    "        print('distance at iteration number '+str(iter)+ ' is: ', dist)\n",
    "        iter += 1\n",
    "    return xvec[-1], xvec\n",
    "\n",
    "x, xvec = secant(0,2,1e-8)\n",
    "\n",
    "x_linspace = np.linspace(-1,5,1000)\n",
    "plt.plot(x_linspace, f_x(x_linspace), label='f(x)= $x^4 - 14x^3 + 60x^2 - 70x$')\n",
    "plt.plot(xvec, f_x(xvec),'o', label='guesses by secant method')\n",
    "plt.legend()\n",
    "plt.plot\n",
    "plt.show()\n",
    "print('The value of x at the minimum is: ', x)\n",
    "    \n",
    "   \n",
    "\n",
    "\n",
    "    \n",
    "    "
   ]
  },
  {
   "cell_type": "code",
   "execution_count": null,
   "metadata": {},
   "outputs": [],
   "source": []
  }
 ],
 "metadata": {
  "kernelspec": {
   "display_name": "Python 3",
   "language": "python",
   "name": "python3"
  },
  "language_info": {
   "codemirror_mode": {
    "name": "ipython",
    "version": 3
   },
   "file_extension": ".py",
   "mimetype": "text/x-python",
   "name": "python",
   "nbconvert_exporter": "python",
   "pygments_lexer": "ipython3",
   "version": "3.6.5"
  }
 },
 "nbformat": 4,
 "nbformat_minor": 2
}
