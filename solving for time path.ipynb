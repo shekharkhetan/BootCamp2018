{
 "cells": [
  {
   "cell_type": "code",
   "execution_count": 1,
   "metadata": {},
   "outputs": [],
   "source": [
    "import numpy as np\n"
   ]
  },
  {
   "cell_type": "code",
   "execution_count": 3,
   "metadata": {},
   "outputs": [],
   "source": [
    "#set parameters\n",
    "beta_annual = 0.96\n",
    "beta = beta_annual ** (20)\n",
    "sigma = 2.2\n",
    "n_vec = np.array([1.0,1.0,0.2])\n",
    "alpha = 0.35\n",
    "A= 1.0\n",
    "delta_annual = 0.05\n",
    "delta=1 - (1-delta_annual)**20 \n",
    "\n",
    "T = 50\n",
    "path_toler = 1e-9\n"
   ]
  },
  {
   "cell_type": "code",
   "execution_count": 5,
   "metadata": {},
   "outputs": [
    {
     "ename": "NameError",
     "evalue": "name 'b2bar' is not defined",
     "output_type": "error",
     "traceback": [
      "\u001b[1;31m---------------------------------------------------------------------------\u001b[0m",
      "\u001b[1;31mNameError\u001b[0m                                 Traceback (most recent call last)",
      "\u001b[1;32m<ipython-input-5-b48b76e77310>\u001b[0m in \u001b[0;36m<module>\u001b[1;34m()\u001b[0m\n\u001b[0;32m      4\u001b[0m \u001b[1;33m\u001b[0m\u001b[0m\n\u001b[0;32m      5\u001b[0m \u001b[1;31m# set intital conditions\u001b[0m\u001b[1;33m\u001b[0m\u001b[1;33m\u001b[0m\u001b[0m\n\u001b[1;32m----> 6\u001b[1;33m \u001b[0mb21\u001b[0m \u001b[1;33m=\u001b[0m \u001b[1;36m0.8\u001b[0m \u001b[1;33m*\u001b[0m \u001b[0mb2bar\u001b[0m\u001b[1;33m\u001b[0m\u001b[0m\n\u001b[0m\u001b[0;32m      7\u001b[0m \u001b[0mb31\u001b[0m \u001b[1;33m=\u001b[0m \u001b[1;36m1.1\u001b[0m \u001b[1;33m*\u001b[0m \u001b[0mb3bar\u001b[0m\u001b[1;33m\u001b[0m\u001b[0m\n",
      "\u001b[1;31mNameError\u001b[0m: name 'b2bar' is not defined"
     ]
    }
   ],
   "source": [
    "#solve for steady state\n",
    "\n",
    "b2bar, b3bar = get_SS()\n",
    "\n",
    "# set intital conditions \n",
    "b21 = 0.8 * b2bar\n",
    "b31 = 1.1 * b3bar\n",
    "\n",
    "# initial guess for K\n",
    "K1 = b21 + b31\n",
    "Kbar = b2bar + b3bar\n",
    "Kpath = np.linspace(K1, Kbar, T)\n",
    "rpath = get_r(Kpath , stuff)\n",
    "wpath = get_w()"
   ]
  },
  {
   "cell_type": "code",
   "execution_count": 6,
   "metadata": {},
   "outputs": [],
   "source": [
    "# solve for individual lifetiem decisions\n",
    "def get_one_life(b2, rpath, wapth, nvec, beta, sigma):\n",
    "    \n",
    "    \n",
    "    return b3\n",
    "\n",
    "\n",
    "\n",
    "\n",
    "def get_some_lives( b1, rpath, wpath, nvec, beta, sigma, ):\n",
    "    \n",
    "    \n",
    "    \n",
    "    return b2, b3\n",
    "\n",
    "    "
   ]
  },
  {
   "cell_type": "code",
   "execution_count": 7,
   "metadata": {},
   "outputs": [
    {
     "ename": "SyntaxError",
     "evalue": "unexpected EOF while parsing (<ipython-input-7-ad50aac8d8c8>, line 6)",
     "output_type": "error",
     "traceback": [
      "\u001b[1;36m  File \u001b[1;32m\"<ipython-input-7-ad50aac8d8c8>\"\u001b[1;36m, line \u001b[1;32m6\u001b[0m\n\u001b[1;33m    \u001b[0m\n\u001b[1;37m    ^\u001b[0m\n\u001b[1;31mSyntaxError\u001b[0m\u001b[1;31m:\u001b[0m unexpected EOF while parsing\n"
     ]
    }
   ],
   "source": [
    "bmat = np.zeros((T+1, 2))\n",
    "diag_mask = np.eye(2, dtype=bool)\n",
    "# set in a while loop\n",
    "for t in range (T+1):\n",
    "    #solve for b2 nd b3\n",
    "    \n",
    "    \n",
    "dist = ((Kpath_prime - Kpath)**2).sum()    \n",
    "Kpath_prime = bmat[:-1].sum(axis=1)\n",
    "Kpath_new = xi * Kpath_prime + (1- xi) * Kpath    \n",
    "    "
   ]
  },
  {
   "cell_type": "code",
   "execution_count": 9,
   "metadata": {},
   "outputs": [
    {
     "ename": "NameError",
     "evalue": "name 'diag_mask' is not defined",
     "output_type": "error",
     "traceback": [
      "\u001b[1;31m---------------------------------------------------------------------------\u001b[0m",
      "\u001b[1;31mNameError\u001b[0m                                 Traceback (most recent call last)",
      "\u001b[1;32m<ipython-input-9-0702a829652c>\u001b[0m in \u001b[0;36m<module>\u001b[1;34m()\u001b[0m\n\u001b[1;32m----> 1\u001b[1;33m \u001b[0mdiag_mask\u001b[0m\u001b[1;33m(\u001b[0m\u001b[1;33m)\u001b[0m\u001b[1;33m\u001b[0m\u001b[0m\n\u001b[0m",
      "\u001b[1;31mNameError\u001b[0m: name 'diag_mask' is not defined"
     ]
    }
   ],
   "source": [
    "diag_mask"
   ]
  },
  {
   "cell_type": "code",
   "execution_count": null,
   "metadata": {},
   "outputs": [],
   "source": []
  }
 ],
 "metadata": {
  "kernelspec": {
   "display_name": "Python 3",
   "language": "python",
   "name": "python3"
  },
  "language_info": {
   "codemirror_mode": {
    "name": "ipython",
    "version": 3
   },
   "file_extension": ".py",
   "mimetype": "text/x-python",
   "name": "python",
   "nbconvert_exporter": "python",
   "pygments_lexer": "ipython3",
   "version": "3.6.5"
  }
 },
 "nbformat": 4,
 "nbformat_minor": 2
}
