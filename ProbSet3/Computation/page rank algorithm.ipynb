{
 "cells": [
  {
   "cell_type": "code",
   "execution_count": 1,
   "metadata": {},
   "outputs": [
    {
     "name": "stdout",
     "output_type": "stream",
     "text": [
      "  (0, 7)\t1.0\n",
      "  (1, 0)\t1.0\n",
      "  (3, 0)\t1.0\n",
      "  (3, 2)\t1.0\n",
      "  (3, 6)\t1.0\n",
      "  (4, 0)\t1.0\n",
      "  (4, 5)\t1.0\n",
      "  (4, 6)\t1.0\n",
      "  (5, 0)\t1.0\n",
      "  (5, 6)\t1.0\n",
      "  (6, 0)\t1.0\n",
      "  (7, 0)\t1.0\n"
     ]
    }
   ],
   "source": [
    "\n",
    "import numpy as np\n",
    "import scipy.sparse\n",
    "\n",
    "def create_adj(filename,N):\n",
    "    adj =  scipy.sparse.dok_matrix((N,N))\n",
    "    with open(filename, 'r') as myfile:\n",
    "        for line in myfile:\n",
    "            try:\n",
    "                m,n =  line.strip().split()\n",
    "                adj[int(m),int(n)] = 1\n",
    "#                 print(adj[m,n])\n",
    "            except:\n",
    "                pass\n",
    "    return adj\n",
    "\n",
    "A = create_adj('matrix.txt', 8)\n",
    "print(A)"
   ]
  },
  {
   "cell_type": "code",
   "execution_count": 2,
   "metadata": {},
   "outputs": [
    {
     "data": {
      "text/plain": [
       "array([[0.        , 1.        , 0.125     , 0.33333333, 0.33333333,\n",
       "        0.5       , 1.        , 1.        ],\n",
       "       [0.        , 0.        , 0.125     , 0.        , 0.        ,\n",
       "        0.        , 0.        , 0.        ],\n",
       "       [0.        , 0.        , 0.125     , 0.33333333, 0.        ,\n",
       "        0.        , 0.        , 0.        ],\n",
       "       [0.        , 0.        , 0.125     , 0.        , 0.        ,\n",
       "        0.        , 0.        , 0.        ],\n",
       "       [0.        , 0.        , 0.125     , 0.        , 0.        ,\n",
       "        0.        , 0.        , 0.        ],\n",
       "       [0.        , 0.        , 0.125     , 0.        , 0.33333333,\n",
       "        0.        , 0.        , 0.        ],\n",
       "       [0.        , 0.        , 0.125     , 0.33333333, 0.33333333,\n",
       "        0.5       , 0.        , 0.        ],\n",
       "       [1.        , 0.        , 0.125     , 0.        , 0.        ,\n",
       "        0.        , 0.        , 0.        ]])"
      ]
     },
     "execution_count": 2,
     "metadata": {},
     "output_type": "execute_result"
    }
   ],
   "source": [
    "import numpy as np\n",
    "import scipy.linalg\n",
    "\n",
    "def K_givenA(A):\n",
    "    n,n = np.shape(A)\n",
    "    B = np.empty((n,n))\n",
    "    diagonals = np.empty(n)\n",
    "    for i in range(n):\n",
    "        if any(A[i,:])==0:\n",
    "            B[i,:]=1\n",
    "        else:\n",
    "            B[i,:]=A[i,:]\n",
    "        diagonals[i] = np.sum(B, axis=1)[i]\n",
    "    D = np.eye(n)*diagonals\n",
    "    Dinv=scipy.linalg.inv(D)\n",
    "    K = (Dinv@B).T\n",
    "    return K    \n",
    "\n",
    "A = np.array([0,0,0,0,0,0,0,1, 1,0,0,0,0,0,0,0, 0,0,0,0,0,0,0,0, 1,0,1,0,0,0,1,0, 1,0,0,0,0,1,1,0, 1,0,0,0,0,0,1,0,1,0,0,0,0,0,0,0, 1,0,0,0,0,0,0,0]).reshape(8,8)\n",
    "K_givenA(A)\n",
    "  \n"
   ]
  },
  {
   "cell_type": "code",
   "execution_count": 3,
   "metadata": {},
   "outputs": [
    {
     "data": {
      "text/plain": [
       "array([0.43869933, 0.02171029, 0.02786154, 0.02171029, 0.02171029,\n",
       "       0.02786154, 0.04585394, 0.39461103])"
      ]
     },
     "execution_count": 3,
     "metadata": {},
     "output_type": "execute_result"
    }
   ],
   "source": [
    "import numpy as np\n",
    "import scipy.linalg\n",
    "\n",
    "N = None\n",
    "d = 0.85\n",
    "tol = 1e-5\n",
    "iter_max=100\n",
    "\n",
    "def K_givenA(A):\n",
    "    n,n = np.shape(A)\n",
    "    B = np.empty((n,n))\n",
    "    diagonals = np.empty(n)\n",
    "    for i in range(n):\n",
    "        if any(A[i,:])==0:\n",
    "            B[i,:]=1\n",
    "        else:\n",
    "            B[i,:]=A[i,:]\n",
    "        diagonals[i] = np.sum(B, axis=1)[i]\n",
    "    D = np.eye(n)*diagonals\n",
    "    Dinv=scipy.linalg.inv(D)\n",
    "    K = (Dinv@B).T\n",
    "    return K  \n",
    "\n",
    "def iterative(A,N,d,tol):\n",
    "    n,n = np.shape(A)\n",
    "    pt = np.random.random(n)\n",
    "    ones = np.ones(n)\n",
    "    K=K_givenA(A)\n",
    "    iter = 0\n",
    "    dist=5\n",
    "    while (iter<iter_max)& (dist>tol):\n",
    "        pt1 = d*np.asarray(np.matrix(K)@np.matrix(pt).T).reshape(-1) + ((1-d)/n)*ones\n",
    "        dist = scipy.linalg.norm(pt1-pt)\n",
    "        pt = pt1\n",
    "        iter +=1\n",
    "    return pt1\n",
    "\n",
    "A  = np.array([0,0,0,0,0,0,0,1, 1,0,0,0,0,0,0,0, 0,0,0,0,0,0,0,0, 1,0,1,0,0,0,1,0, \n",
    "               1,0,0,0,0,1,1,0, 1,0,0,0,0,0,1,0,1,0,0,0,0,0,0,0, 1,0,0,0,0,0,0,0]).reshape(8,8)\n",
    "iterative(A,N,d,tol)"
   ]
  },
  {
   "cell_type": "code",
   "execution_count": 5,
   "metadata": {},
   "outputs": [
    {
     "data": {
      "text/plain": [
       "array([0.43869288, 0.02171029, 0.02786154, 0.02171029, 0.02171029,\n",
       "       0.02786154, 0.04585394, 0.39459924])"
      ]
     },
     "execution_count": 5,
     "metadata": {},
     "output_type": "execute_result"
    }
   ],
   "source": [
    "import numpy as np\n",
    "import scipy.linalg\n",
    "\n",
    "N= None\n",
    "d=0.85\n",
    "tole=1e-15\n",
    "iter_max=100\n",
    "\n",
    "def eigen(A,N):\n",
    "    m,n = np.shape(A)\n",
    "    x=[None]*(N+1)\n",
    "    x[0]=np.random.random(n)\n",
    "    x[0]=x[0]\n",
    "    x[0]=x[0]/scipy.linalg.norm(x[0])\n",
    "    for k in range(N):\n",
    "        matrix=(np.matrix(A)@(np.matrix(x[k]).T)).T\n",
    "        x[k+1]=np.asarray(matrix).reshape(-1)\n",
    "        x[k+1]=x[k+1]/scipy.linalg.norm(x[k+1])\n",
    "    eigenvalue=np.float((np.matrix(x[N]))@(np.matrix(A))@(np.matrix(x[N]).T))\n",
    "    return eigenvalue,x[N]\n",
    "\n",
    "\n",
    "def iterationmatrix(A,N,d,tol):\n",
    "    n,n = np.shape(A)\n",
    "    K = K_givenA(A)\n",
    "    E = np.ones((n,n))\n",
    "    B = d*K + ((1-d)/n)*E\n",
    "    p = scipy.linalg.solve(np.eye(n) - d * K, ((1 - d) / n) * np.ones(n))\n",
    "    return p\n",
    "\n",
    "A  = np.array([0,0,0,0,0,0,0,1, 1,0,0,0,0,0,0,0, 0,0,0,0,0,0,0,0, 1,0,1,0,0,0,1,0, \n",
    "               1,0,0,0,0,1,1,0, 1,0,0,0,0,0,1,0,1,0,0,0,0,0,0,0, 1,0,0,0,0,0,0,0]).reshape(8,8)\n",
    "iterationmatrix(A,N,d,tol)\n",
    "        \n",
    "    "
   ]
  },
  {
   "cell_type": "code",
   "execution_count": 4,
   "metadata": {},
   "outputs": [
    {
     "name": "stderr",
     "output_type": "stream",
     "text": [
      "C:\\Users\\hp\\Anaconda3\\lib\\site-packages\\ipykernel_launcher.py:37: FutureWarning: Method .as_matrix will be removed in a future version. Use .values instead.\n"
     ]
    },
    {
     "name": "stdout",
     "output_type": "stream",
     "text": [
      "The top 5 ranked teams are, in order:\n",
      "D\n",
      "B\n",
      "L\n",
      "I\n",
      "I\n"
     ]
    }
   ],
   "source": [
    "import numpy as np\n",
    "import scipy.linalg\n",
    "import pandas as pd\n",
    "\n",
    "iter_max=100\n",
    "\n",
    "def K_givenA(A):\n",
    "    n,n = np.shape(A)\n",
    "    B = np.empty((n,n))\n",
    "    diagonals = np.empty(n)\n",
    "    for i in range(n):\n",
    "        if any(A[i,:])==0:\n",
    "            B[i,:]=1\n",
    "        else:\n",
    "            B[i,:]=A[i,:]\n",
    "        diagonals[i] = np.sum(B, axis=1)[i]\n",
    "    D = np.eye(n)*diagonals\n",
    "    Dinv=scipy.linalg.inv(D)\n",
    "    K = (Dinv@B).T\n",
    "    return K  \n",
    "\n",
    "def iterative(A,N,d,tol):\n",
    "    n,n = np.shape(A)\n",
    "    pt = np.random.random(n)\n",
    "    ones = np.ones(n)\n",
    "    K=K_givenA(A)\n",
    "    iter = 0\n",
    "    dist=5\n",
    "    while (iter<iter_max)& (dist>tol):\n",
    "        pt1 = d*np.asarray(np.matrix(K)@np.matrix(pt).T).reshape(-1) + ((1-d)/n)*ones\n",
    "        dist = scipy.linalg.norm(pt1-pt)\n",
    "        pt = pt1\n",
    "        iter +=1\n",
    "    return pt1\n",
    "\n",
    "\n",
    "ncaa = pd.read_csv('ncaa2013.csv', header = 0).as_matrix()\n",
    "m, n = ncaa.shape\n",
    "teams, idx = np.unique(ncaa, return_inverse = True)\n",
    "idx = idx.reshape((m, n))\n",
    "\n",
    "t = len(teams)\n",
    "Adj = np.zeros((t,t))\n",
    "\n",
    "for i in range(m):\n",
    "    Adj[idx[i, 1], idx[i, 0]] = 1\n",
    "\n",
    "ranks = iterative(Adj,N=None, d = 0.7, tol =1e-5)\n",
    "np.argsort(ranks.T)\n",
    "ranks = teams[np.argsort(ranks.T)].T[::-1]\n",
    "\n",
    "print('The top 5 ranked teams are, in order:')\n",
    "for i in range(5):\n",
    "    print(ranks[i][0])"
   ]
  },
  {
   "cell_type": "code",
   "execution_count": null,
   "metadata": {},
   "outputs": [],
   "source": []
  }
 ],
 "metadata": {
  "kernelspec": {
   "display_name": "Python 3",
   "language": "python",
   "name": "python3"
  },
  "language_info": {
   "codemirror_mode": {
    "name": "ipython",
    "version": 3
   },
   "file_extension": ".py",
   "mimetype": "text/x-python",
   "name": "python",
   "nbconvert_exporter": "python",
   "pygments_lexer": "ipython3",
   "version": "3.6.5"
  }
 },
 "nbformat": 4,
 "nbformat_minor": 2
}
