{
 "cells": [
  {
   "cell_type": "code",
   "execution_count": 102,
   "metadata": {},
   "outputs": [],
   "source": [
    "import numpy as np\n",
    "from matplotlib import pyplot as plt\n",
    "import pandas as pd\n",
    "import scipy as spy\n",
    "from scipy import linalg as la\n"
   ]
  },
  {
   "cell_type": "code",
   "execution_count": 105,
   "metadata": {},
   "outputs": [
    {
     "name": "stdout",
     "output_type": "stream",
     "text": [
      "[[2.7625633  1.28288293 3.39362066 2.68416681]\n",
      " [0.         1.86716622 0.96169084 0.57656778]\n",
      " [0.         0.         0.91651565 0.18397667]\n",
      " [0.         0.         0.         0.99292756]]\n"
     ]
    }
   ],
   "source": [
    "A = np.random.random((6,4))\n",
    "def GS(A):\n",
    "    m,n=np.shape(A)\n",
    "    Q= np.copy(A)\n",
    "    Q=Q.astype(float)\n",
    "    R = np.zeros([n,n])\n",
    "    for i in range(0, n):\n",
    "        R[i, i]=scipy.linalg.norm(Q[:,i])\n",
    "        Q[:,i] =Q[:,i]/R[i,i]\n",
    "        for j in range(i+1, n):\n",
    "            R[i,j] = np.array(np.matrix(Q[:,j]) @ np.matrix(Q[:,i]).T)\n",
    "            Q[:,j] = Q[:,j]- R[i,j]*Q[:,i]\n",
    "    return Q,R\n",
    "        \n",
    "x,y = GS(A);\n",
    "z,mm = la.qr(A, mode= \"economic\");\n",
    "print(y-mm)\n"
   ]
  },
  {
   "cell_type": "code",
   "execution_count": 98,
   "metadata": {},
   "outputs": [
    {
     "name": "stdout",
     "output_type": "stream",
     "text": [
      "6.70940890281045e-17\n",
      "0.0\n",
      "6.70940890281045e-17\n"
     ]
    }
   ],
   "source": [
    "#SInce the determinant of A is just the product of elements of the diagonal in the matrix \n",
    "#or the r[i,i] , we can get it done.\n",
    "def Det(A):\n",
    "    Q, R= la.qr(A, mode=\"economic\")\n",
    "    det_A = abs(R.diagonal().prod())\n",
    "    return det_A\n",
    "A =([1,1],\n",
    "  [1,1])\n",
    "A = np.mat(A)\n",
    "print(Det(A))\n",
    "print(la.det(A))\n",
    "print(Det(A) - la.det(A)) #to check though trivial"
   ]
  },
  {
   "cell_type": "code",
   "execution_count": null,
   "metadata": {},
   "outputs": [],
   "source": [
    "\n",
    "#Question 3                       \n",
    "def back_substitution(A, b):\n",
    "    n = b.size\n",
    "    x = np.zeros((n,1))\n",
    "    x[n-1] = b[n-1] / A[n-1, n-1]\n",
    "    for i in range(n-2, -1, -1):\n",
    "        solv = b[i]\n",
    "        for j in range(i+1, n):\n",
    "            solv = solv - A[i,j] * x[j]\n",
    "        x[i] = solv / A[i,i]\n",
    "    return x\n",
    "\n",
    "\n",
    "def solve_linear(A,b):\n",
    "    Q,R = g2_schmidt(A)\n",
    "    y = Q.T@b\n",
    "    return back_substitution(R,y)\n",
    "\n",
    "A=np.array( [2,3,4,9,-4,30,1,1,-1])\n",
    "A =A.reshape((3,3))\n",
    "A = np.matrix(A)\n",
    "b =np.array([38,161,2])\n",
    "b = np.matrix(b.reshape(3,1))\n",
    "\n",
    "\n",
    "wer = solve_linear(A,b)\n",
    "print(wer.tolist())\n",
    "\n",
    "    "
   ]
  },
  {
   "cell_type": "code",
   "execution_count": 99,
   "metadata": {},
   "outputs": [
    {
     "name": "stdout",
     "output_type": "stream",
     "text": [
      "(5, 3) (5, 3) (3, 3)\n"
     ]
    },
    {
     "data": {
      "text/plain": [
       "True"
      ]
     },
     "execution_count": 99,
     "metadata": {},
     "output_type": "execute_result"
    }
   ],
   "source": [
    "# solution 4\n",
    "def HH(A):\n",
    "    m, n = shape.A\n",
    "    R = np.copy(A)\n",
    "    Q = np.matrix(np.identity(m))\n",
    "    for k in range (0,n):\n",
    "        u = np.copy(R[k:, k])\n",
    "        sign = lambda x: 1 if  x >=0 else -1\n",
    "        u[0] = u[0] + sign(u[0])*np.linalg.norm(u)\n",
    "        u = u/np.linalg.norm(u)\n",
    "        R[k:,k:] = R[k:,k:]- 2*u @ (np.trans(u) @ R[k:,k:])\n",
    "        Q[k:,:] = Q[k:,:]- 2* u @ (np.trans(u) @ Q[k:,:])\n",
    "    return np.trans(Q), R\n",
    "        \n",
    "A = np.random.random((5,3))\n",
    "Q, R = np.linalg.qr(A)\n",
    "print(A.shape, Q.shape, R.shape)\n",
    "np.allclose(Q @ R, A)\n",
    "        \n",
    "  #Could not understand why to use outer product and why it is different from above      "
   ]
  },
  {
   "cell_type": "code",
   "execution_count": 103,
   "metadata": {},
   "outputs": [
    {
     "data": {
      "text/plain": [
       "True"
      ]
     },
     "execution_count": 103,
     "metadata": {},
     "output_type": "execute_result"
    }
   ],
   "source": [
    "\n",
    "#solution 4\n",
    "def Hessenberg(A):\n",
    "    m,n = A.shape\n",
    "    H = np.copy(A)\n",
    "    Q = np.eye(m)\n",
    "    for k in range(n-2):\n",
    "        u = np.copy(H[k+1:,k])\n",
    "        sign = lambda x: 1 if  x >=0 else -1\n",
    "        u[0]= u[0] + sign(u[0])*spy.linalg.norm(u)\n",
    "        u = u/spy.linalg.norm(u)\n",
    "        H[k+1:,k:] = H[k+1:,k:] - 2*np.outer(u, u.T@H[k+1:,k:])\n",
    "        H[:,k+1:] = H[:,k+1:] - 2*np.outer(H[:,k+1:]@u,u.T)\n",
    "        Q[k+1:,:] = Q[k+1:,:] - 2*np.outer(u, u.T@Q[k+1:,])\n",
    "    return H,Q.T\n",
    "\n",
    "A = np.random.random((10, 10))\n",
    "H,Q = spy.linalg.hessenberg(A, calc_q =True)\n",
    "\n",
    "np.allclose(np.triu(H,-1),H)\n",
    "HH,QQ = Hessenberg(A)\n",
    "np.allclose(QQ@HH@QQ.T,A)"
   ]
  }
 ],
 "metadata": {
  "kernelspec": {
   "display_name": "Python 3",
   "language": "python",
   "name": "python3"
  },
  "language_info": {
   "codemirror_mode": {
    "name": "ipython",
    "version": 3
   },
   "file_extension": ".py",
   "mimetype": "text/x-python",
   "name": "python",
   "nbconvert_exporter": "python",
   "pygments_lexer": "ipython3",
   "version": "3.6.5"
  }
 },
 "nbformat": 4,
 "nbformat_minor": 2
}
