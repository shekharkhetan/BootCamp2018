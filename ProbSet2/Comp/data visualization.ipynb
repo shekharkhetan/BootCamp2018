{
 "cells": [
  {
   "cell_type": "code",
   "execution_count": 23,
   "metadata": {},
   "outputs": [
    {
     "name": "stdout",
     "output_type": "stream",
     "text": [
      "[[10.    8.04 10.    9.14 10.    7.46  8.    6.58]\n",
      " [ 8.    6.95  8.    8.14  8.    6.77  8.    5.76]\n",
      " [13.    7.58 13.    8.74 13.   12.74  8.    7.71]\n",
      " [ 9.    8.81  9.    8.77  9.    7.11  8.    8.84]\n",
      " [11.    8.33 11.    9.26 11.    7.81  8.    8.47]\n",
      " [14.    9.96 14.    8.1  14.    8.84  8.    7.04]\n",
      " [ 6.    7.24  6.    6.13  6.    6.08  8.    5.25]\n",
      " [ 4.    4.26  4.    3.1   4.    5.39 19.   12.5 ]\n",
      " [12.   10.84 12.    9.13 12.    8.15  8.    5.56]\n",
      " [ 7.    4.82  7.    7.26  7.    6.42  8.    7.91]\n",
      " [ 5.    5.68  5.    4.74  5.    5.73  8.    6.89]]\n"
     ]
    },
    {
     "data": {
      "image/png": "[encoded data removed]",
      "text/plain": [
       "<Figure size 432x288 with 4 Axes>"
      ]
     },
     "metadata": {},
     "output_type": "display_data"
    }
   ],
   "source": [
    "import numpy as np\n",
    "from matplotlib import pyplot as plt\n",
    "data = np.load(\"anscombe.npy\")\n",
    "print(data)\n",
    "for i in range(4):\n",
    "    plt.subplot(2,2,i+1).plot(data[:,2*i], data[:,2*i+1], 'o', markersize=5, alpha=.5) \n",
    "    \n",
    "plt.show()"
   ]
  },
  {
   "cell_type": "code",
   "execution_count": null,
   "metadata": {},
   "outputs": [],
   "source": []
  }
 ],
 "metadata": {
  "kernelspec": {
   "display_name": "Python 3",
   "language": "python",
   "name": "python3"
  },
  "language_info": {
   "codemirror_mode": {
    "name": "ipython",
    "version": 3
   },
   "file_extension": ".py",
   "mimetype": "text/x-python",
   "name": "python",
   "nbconvert_exporter": "python",
   "pygments_lexer": "ipython3",
   "version": "3.6.5"
  }
 },
 "nbformat": 4,
 "nbformat_minor": 2
}
