{
 "cells": [
  {
   "cell_type": "code",
   "execution_count": 3,
   "metadata": {},
   "outputs": [
    {
     "name": "stdout",
     "output_type": "stream",
     "text": [
      "[[5.64375001e-01 1.69296089e-01 6.68370874e-04 1.38986425e-08\n",
      "  1.17082946e-15 0.00000000e+00 0.00000000e+00 0.00000000e+00\n",
      "  0.00000000e+00 0.00000000e+00]\n",
      " [4.63288290e-02 5.64167366e-01 1.55867820e-01 5.04151137e-04\n",
      "  8.43728314e-09 6.13966018e-16 0.00000000e+00 0.00000000e+00\n",
      "  0.00000000e+00 0.00000000e+00]\n",
      " [5.05704583e-05 5.82757782e-02 6.01626205e-01 1.42471751e-01\n",
      "  3.77063900e-04 5.07691059e-09 3.21954892e-16 0.00000000e+00\n",
      "  0.00000000e+00 0.00000000e+00]\n",
      " [3.96888916e-10 7.76222176e-05 7.27953504e-02 6.38004747e-01\n",
      "  1.29278334e-01 2.79621278e-04 3.02802912e-09 1.12552323e-16\n",
      "  0.00000000e+00 0.00000000e+00]\n",
      " [1.90685706e-17 7.51615550e-10 1.18125429e-04 9.02416558e-02\n",
      "  6.72837429e-01 1.16442325e-01 2.05597177e-04 1.79011656e-09\n",
      "  1.18041618e-16 0.00000000e+00]\n",
      " [5.29411812e-27 4.47205133e-17 1.41084035e-09 1.78227649e-04\n",
      "  1.11027402e-01 7.05652415e-01 1.04099615e-01 1.49881091e-04\n",
      "  1.04896409e-09 0.00000000e+00]\n",
      " [8.27297054e-39 1.54000315e-26 1.03946325e-16 2.62493149e-09\n",
      "  2.66618037e-04 1.35583374e-01 7.35979943e-01 9.23649265e-02\n",
      "  1.08330531e-04 6.09249460e-10]\n",
      " [7.17492376e-53 2.98723007e-38 4.43960056e-26 2.39456350e-16\n",
      "  4.84081878e-09 3.95453701e-04 1.64350424e-01 7.63361395e-01\n",
      "  8.13304001e-02 7.76288399e-05]\n",
      " [3.42480897e-69 3.21733868e-52 1.06895567e-37 1.26841414e-25\n",
      "  5.46713268e-16 8.84877832e-09 5.81571103e-04 1.97769771e-01\n",
      "  7.87358986e-01 7.11176716e-02]\n",
      " [8.94944522e-88 1.90769028e-68 1.42972936e-51 3.79083494e-37\n",
      "  3.59148236e-25 1.23711514e-15 1.60329874e-08 8.48049035e-04\n",
      "  2.36271726e-01 8.66351187e-01]]\n"
     ]
    },
    {
     "data": {
      "text/plain": [
       "1.8966470473946728e-05"
      ]
     },
     "execution_count": 3,
     "metadata": {},
     "output_type": "execute_result"
    }
   ],
   "source": [
    "import numpy as np\n",
    "from scipy import linalg\n",
    "with open('matrix_data.txt') as file:\n",
    "    array2d = np.array([[float(digit) for digit in line.split()] for line in file]) #converting text file elements into array\n",
    "    print(array2d)\n",
    "lambdas = linalg.eig(array2d, b=None, left=False, right=False, overwrite_a=False, \n",
    "                     overwrite_b=False, check_finite=True, homogeneous_eigvals=False)\n",
    "spectralradius = max(abs(lambdas))\n",
    "\n",
    "i_max = 100000\n",
    "\n",
    "def spectral_theorem(i):\n",
    "    product = np.linalg.matrix_power(array2d,i)\n",
    "    nu = np.full((10, 1),2) # creating a matrix of dimension ten by one and every element as two.\n",
    "    vector = product @ nu \n",
    "    normvector = linalg.norm(vector, ord = 2)\n",
    "    converge = normvector**(1/i)\n",
    "    difference = converge - spectralradius\n",
    "    return difference\n",
    "       \n",
    "sequence = []\n",
    "\n",
    "for iter in range(1,i_max+1):\n",
    "    sequence.append(spectral_theorem(iter))\n",
    "'''The last element of the list/sequence would be the answer.'''   \n",
    "sequence[-1]\n",
    "    "
   ]
  },
  {
   "cell_type": "code",
   "execution_count": 8,
   "metadata": {},
   "outputs": [
    {
     "name": "stdout",
     "output_type": "stream",
     "text": [
      "18.562695626499732\n"
     ]
    },
    {
     "data": {
      "image/png": "[encoded data removed]",
      "text/plain": [
       "<Figure size 432x288 with 100 Axes>"
      ]
     },
     "metadata": {},
     "output_type": "display_data"
    }
   ],
   "source": [
    "import numpy as np\n",
    "import matplotlib\n",
    "import time\n",
    "from matplotlib import pyplot as plt\n",
    "from numba import jit\n",
    "\n",
    "timeseries_size=10000\n",
    "\n",
    "@jit\n",
    "def gx(x):\n",
    "    gx = 4 * x * (1 - x)\n",
    "    return gx\n",
    "\n",
    "@jit\n",
    "def timeseries(x):\n",
    "    A = np.array(x)\n",
    "    A = np.append(A, gx(x))\n",
    "    iter = 1\n",
    "    while iter < timeseries_size:\n",
    "        A = np.append(A, gx(A[-1]))\n",
    "        iter += 1\n",
    "    return A\n",
    "@jit\n",
    "def initial_conditions():\n",
    "    initial_conditions = np.empty(100)\n",
    "    for i in range(100):\n",
    "        initial_conditions[i] = np.random.uniform(0,1,1)\n",
    "    return initial_conditions\n",
    "    \n",
    "time_start = time.clock()\n",
    "\n",
    "init = initial_conditions()\n",
    "fig, ax = plt.subplots(10,10)\n",
    "\n",
    "\n",
    "for i in range(10):\n",
    "    for j in range(10):\n",
    "        ax[i,j].hist(timeseries(init[i+j]), bins = 100, )\n",
    "\n",
    "time_elapsed = (time.clock()-time_start)       \n",
    "print(time_elapsed)\n",
    "fig.savefig('plot.pdf')"
   ]
  },
  {
   "cell_type": "markdown",
   "metadata": {},
   "source": [
    "## Solution of Question 3\n",
    "\n",
    "We are given the following-\n",
    "(i) $g$ is continuous at $\\hat{x}$\n",
    "\n",
    "(ii) $g^t(\\hat{x}) \\rightarrow \\hat{x}$ as $x \\rightarrow \\infty$\n",
    "\n",
    "Proof-\n",
    "Since we are given that $g^t(x) \\rightarrow \\hat{x}$,  there exists  $x^\\prime, \\epsilon, \\delta_1 > 0$ such that:\n",
    "$$|g(x^\\prime) - \\hat{x}| < \\epsilon/2 $$ if $$|x^\\prime - \\hat{x}|<\\delta_1$$\n",
    "\n",
    "We are also given that $g(x)$ is continuous at $\\hat{x}$, which means that there exists $\\delta_2 > 0$ such that \n",
    "$$\\Rightarrow |g(x^\\prime) - g(\\hat{x})| < \\epsilon/2$$ if $$|x^\\prime - \\hat{x}|<\\delta_2$$\n",
    "\n",
    "Choosing $\\delta = \\min(\\delta_1, \\delta_2)$, we have \n",
    "$$|g(x^\\prime) - \\hat{x}| < \\epsilon/2 $$ and \n",
    "$$|g(x^\\prime) - g(\\hat{x})| < \\epsilon/2$$ \n",
    "if $$|x^\\prime - \\hat{x}|<\\delta$$\n",
    "\n",
    "Therefore we have\n",
    "$$|g(\\hat{x}) - \\hat{x}| = |g(\\hat{x}) + g(x^\\prime) - g(x^\\prime) - \\hat{x}|$$\n",
    "$$ = |g(\\hat{x}) - g(x^\\prime) + g(x^\\prime) - \\hat{x}|$$\n",
    "$$ \\le |g(\\hat{x}) - g(x^\\prime)| + |g(x^\\prime) - \\hat{x}|$$ \n",
    "$$ < \\epsilon/2 + \\epsilon/2 = \\epsilon$$\n",
    "\n",
    "if $|\\hat{x} - x^\\prime|< \\delta$ i.e $x^\\prime \\ne \\hat{x}$\n",
    "\n",
    "Which shows that the distance between $g(\\hat{x})$ and $\\hat{x}$ is arbitrarily small. Hence $g(\\hat{x}) \\rightarrow \\hat{x}$ \n",
    "\n"
   ]
  },
  {
   "cell_type": "code",
   "execution_count": null,
   "metadata": {},
   "outputs": [],
   "source": []
  }
 ],
 "metadata": {
  "kernelspec": {
   "display_name": "Python 3",
   "language": "python",
   "name": "python3"
  },
  "language_info": {
   "codemirror_mode": {
    "name": "ipython",
    "version": 3
   },
   "file_extension": ".py",
   "mimetype": "text/x-python",
   "name": "python",
   "nbconvert_exporter": "python",
   "pygments_lexer": "ipython3",
   "version": "3.6.5"
  }
 },
 "nbformat": 4,
 "nbformat_minor": 2
}
