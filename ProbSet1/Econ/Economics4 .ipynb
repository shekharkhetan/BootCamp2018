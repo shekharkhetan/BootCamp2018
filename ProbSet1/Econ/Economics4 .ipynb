{
 "cells": [
  {
   "cell_type": "markdown",
   "metadata": {},
   "source": [
    "# Economics Problem 4\n",
    "### Shekhar kumar"
   ]
  },
  {
   "cell_type": "markdown",
   "metadata": {},
   "source": [
    "The problem can be thought of as the worker declining the higher wage, w, wrt to the unemployment benefit,b, in this period in the expectation that the next period it will get further higher wage.\n",
    "\n",
    "To formulate the Bellman we can think of expected utility to the worker if it takes up the current wage offer, w, from this period onwards forever.\n",
    "\n",
    "In this case the utility to the worker is \n",
    "\n",
    "$$ V^E = w + \\beta w + \\beta^2 w + \\beta^3 w + ... $$\n",
    "\n",
    "$$ \\Rightarrow $$\n",
    "\n",
    "$$ V^E = \\frac {w}{1-\\beta} $$\n",
    "\n",
    "In case the worker decides not to take the wage offer, it will get an unemployment benefit of b, followed by the wage of next period w,\n",
    "\n",
    "$$ V^U = b + \\beta E[ V^E ( w, \\epsilon)] $$\n",
    "\n",
    "The Bellman equation can be written as \n",
    "\n",
    "$$ V(w,\\epsilon) = \\max_w \\{V^E(w,\\epsilon), V^U(w,\\epsilon)\\} $$\n"
   ]
  },
  {
   "cell_type": "code",
   "execution_count": 1,
   "metadata": {},
   "outputs": [],
   "source": [
    "# Import packages\n",
    "import numpy as np\n",
    "import matplotlib.pyplot as plt\n",
    "import ar1_approx as ar1\n",
    "# to print plots inline\n",
    "%matplotlib inline"
   ]
  },
  {
   "cell_type": "code",
   "execution_count": 2,
   "metadata": {},
   "outputs": [],
   "source": [
    "# Declare parameters\n",
    "# Preference parameters\n",
    "beta = 0.96\n",
    "#size_eps = 40  # number of grid points in epsilon-space\n",
    "size_b = 50\n",
    "b = np.linspace(.05, 1, size_b)\n",
    "mu_eps = 0\n",
    "rho_eps = 0.0\n",
    "sigma_v = 0.15\n",
    "\n",
    "\n",
    "'''\n",
    "------------------------------------------------------------------------\n",
    "Create Grid for State Space    \n",
    "------------------------------------------------------------------------\n",
    "ub_wa      = scalar, upper bound of wage grid \n",
    "size_wa    = integer, number of grid points in wage state space\n",
    "wa_grid    = vector, size_w x 1 vector of wage grid points \n",
    "------------------------------------------------------------------------\n",
    "'''\n",
    "\n",
    "size_wa = 100  # Number of grid points\n",
    "\n",
    "\n",
    "'''\n",
    "Create grid of taste shocks\n",
    "'''\n",
    "import ar1_approx as ar1\n",
    "ln_eps_grid, pi_t = ar1.addacooper(size_wa, mu_eps, rho_eps, sigma_v)\n",
    "wa_grid = np.exp(ln_eps_grid)\n",
    "prob = np.transpose(pi_t)\n",
    "u =  wa_grid/(1-beta)"
   ]
  },
  {
   "cell_type": "code",
   "execution_count": 3,
   "metadata": {},
   "outputs": [
    {
     "name": "stdout",
     "output_type": "stream",
     "text": [
      "Value function converged after this many iterations: 3\n"
     ]
    }
   ],
   "source": [
    "'''\n",
    "------------------------------------------------------------------------\n",
    "Value Function Iteration    \n",
    "------------------------------------------------------------------------\n",
    "VFtol       = scalar, tolerance required for value function to converge\n",
    "VFdist      = scalar, distance between last two value functions\n",
    "VFmaxiter   = integer, maximum number of iterations for value function\n",
    "V           = matrix, the value functions at each iteration\n",
    "TV          = matrix, the value function after applying the Bellman operator\n",
    "PF_discrete = matrix, matrix of policy function: eat=1, not eat=0 \n",
    "Vstore      = array, stores V at each iteration \n",
    "VFiter      = integer, current iteration number\n",
    "EV          = scalar, expected value function for a given state\n",
    "U_eat       = matrix, utility from eating cake now\n",
    "Vwait       = matrix, value of waiting to eat the cake\n",
    "VF          = vector, the \"true\" value function\n",
    "------------------------------------------------------------------------\n",
    "'''\n",
    "VFtol = 1e-8 \n",
    "VFdist = 7.0 \n",
    "VFmaxiter = 2000 \n",
    "V = np.zeros((size_wa,size_b)) # initial guess at value function\n",
    "TV = np.zeros((size_wa,size_b))\n",
    "PF_discrete = np.zeros((size_wa,size_b))\n",
    "Vstore = np.zeros(( size_wa, size_b,VFmaxiter)) #initialize Vstore array\n",
    "VFiter = 1 \n",
    "while VFdist > VFtol and VFiter < VFmaxiter:\n",
    "    for i in range(size_wa): # loop over wage\n",
    "        for j, b_val in enumerate(b):\n",
    "            EU = 0\n",
    "            for ii in range(size_wa):  # loop over epsilon'\n",
    "                EU += prob[i, ii] * V[ii,j]   # note can move one space because of how we constructed grid\n",
    "            U_emp = u[i]\n",
    "            Vwait = b_val + beta * EU \n",
    "            TV[i,j] = max(U_emp, Vwait)\n",
    "            PF_discrete[i,j] = U_emp >= Vwait  # = 1 if accept the present wage offer\n",
    "            \n",
    "    Vstore[:,:, VFiter] = TV # store value function at each iteration for graphing later \n",
    "    VFdist = (np.absolute(V - TV)).max()  # check distance\n",
    "    V = TV\n",
    "    VFiter += 1 \n",
    "\n",
    "if VFiter < VFmaxiter:\n",
    "    print('Value function converged after this many iterations:', VFiter)\n",
    "else:\n",
    "    print('Value function did not converge')            \n",
    "\n",
    "\n",
    "VF = V # solution to the functional equation"
   ]
  },
  {
   "cell_type": "code",
   "execution_count": 4,
   "metadata": {},
   "outputs": [],
   "source": [
    "'''\n",
    "------------------------------------------------------------------------\n",
    "Find threshold policy functions   \n",
    "------------------------------------------------------------------------\n",
    "'''\n",
    "threshold_wa = wa_grid[np.argmax(PF_discrete, axis=0)]"
   ]
  },
  {
   "cell_type": "code",
   "execution_count": 9,
   "metadata": {},
   "outputs": [
    {
     "data": {
      "text/plain": [
       "<matplotlib.figure.Figure at 0x1b3e1d1eba8>"
      ]
     },
     "metadata": {},
     "output_type": "display_data"
    },
    {
     "data": {
      "image/png": "[encoded data removed]",
      "text/plain": [
       "<matplotlib.figure.Figure at 0x1b3e1d1ea90>"
      ]
     },
     "metadata": {},
     "output_type": "display_data"
    }
   ],
   "source": [
    "# Plot value function \n",
    "plt.figure()\n",
    "fig, ax = plt.subplots()\n",
    "ax.plot(wa_grid[:], VF[:,1])\n",
    "plt.xlabel('Wage Offered')\n",
    "plt.ylabel('Value Function')\n",
    "plt.title('Value Function - Job Search')\n",
    "plt.show()"
   ]
  },
  {
   "cell_type": "code",
   "execution_count": 6,
   "metadata": {},
   "outputs": [
    {
     "data": {
      "image/png": "[encoded data removed]",
      "text/plain": [
       "<matplotlib.figure.Figure at 0x1b3c9e8da20>"
      ]
     },
     "metadata": {},
     "output_type": "display_data"
    }
   ],
   "source": [
    "# Plot threshold\n",
    "plt.figure()\n",
    "plt.plot(b[:], threshold_wa[:])\n",
    "plt.xlabel('Wage Offered')\n",
    "plt.ylabel('Threshold Wage')\n",
    "plt.title('Decision rule - Job Search')\n",
    "plt.show()"
   ]
  }
 ],
 "metadata": {
  "kernelspec": {
   "display_name": "Python 3",
   "language": "python",
   "name": "python3"
  },
  "language_info": {
   "codemirror_mode": {
    "name": "ipython",
    "version": 3
   },
   "file_extension": ".py",
   "mimetype": "text/x-python",
   "name": "python",
   "nbconvert_exporter": "python",
   "pygments_lexer": "ipython3",
   "version": "3.6.5"
  }
 },
 "nbformat": 4,
 "nbformat_minor": 2
}
