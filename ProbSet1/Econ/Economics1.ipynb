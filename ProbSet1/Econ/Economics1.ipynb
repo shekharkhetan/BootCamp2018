{
 "cells": [
  {
   "cell_type": "markdown",
   "metadata": {},
   "source": [
    "# Economics Pblm. 1\n",
    "### by [Shekhar Kumar]"
   ]
  },
  {
   "cell_type": "markdown",
   "metadata": {},
   "source": [
    "### Question 1.1"
   ]
  },
  {
   "cell_type": "markdown",
   "metadata": {},
   "source": [
    "### The state variable are:-\n",
    "\n",
    "1. The initial stock of the oil which is equal to B barrels; \n",
    "2. Prices for different time periods  $p_{t}$; and \n",
    "3. The real rate of interest $r$\n"
   ]
  },
  {
   "cell_type": "markdown",
   "metadata": {},
   "source": [
    "### Question 1.2"
   ]
  },
  {
   "cell_type": "markdown",
   "metadata": {},
   "source": [
    "### The control variable are:-\n",
    "\n",
    "1. The amount of oil sold by the owner in period t :  $b_{t}$ barrels"
   ]
  },
  {
   "cell_type": "markdown",
   "metadata": {},
   "source": [
    "### Question 1.3"
   ]
  },
  {
   "cell_type": "markdown",
   "metadata": {},
   "source": [
    "### The transition equation is:-\n",
    "\n",
    "$$ B_{t+1} = B_{t} - b_{t}$$\n",
    "\n",
    "Where\n",
    "* $ B_{t+1} $ = Stock of oil at time period t+1\n",
    "* $ B_{t} $ = Stock of oil at time period t\n",
    "* $ b_{t} $ = Oil sold at time period t\n",
    "\n"
   ]
  },
  {
   "cell_type": "markdown",
   "metadata": {},
   "source": [
    "### Question 1.4"
   ]
  },
  {
   "cell_type": "markdown",
   "metadata": {},
   "source": [
    "The sequence problem is \n",
    "\n",
    "$$ max_{\\{b_t\\}_{t=1}^\\infty} \\bigg\\{ \\sum_{t=1}^{\\infty} \\frac{1}{(1+r)^{t-1}}p_tb_t \\bigg\\} \\text{ such that } B = \\sum_{t=1}^\\infty b_t  $$\n",
    "\n",
    "The Bellman form of sequence problem is:\n",
    "$$ V(B) = \\max_{0 \\leq b \\leq B} pb + \\frac{1}{1+r}V(B')  $$\n",
    "where $B' = B-b$"
   ]
  },
  {
   "cell_type": "markdown",
   "metadata": {},
   "source": [
    "### Question 1.5"
   ]
  },
  {
   "cell_type": "markdown",
   "metadata": {},
   "source": [
    "The Euler equation can be derived either using Lagrangian method on the sequence problem formulation or it can be derived from the Bellman equation too. Using Bellman method:\n",
    "\n",
    "Differentiatiing Bellman equation above with respect to B', we get\n",
    "\n",
    "$$ \\frac {dV}{dB'} = -p + \\frac{1}{1+r}\\frac {dV'}{dB'}  $$\n",
    "\n",
    "At the optimal $ \\frac {dV}{dB'} $  is 0\n",
    "\n",
    "This implies \n",
    "\n",
    "$$ p = \\frac{1}{1+r}\\frac {dV'}{dB'}  $$\n",
    "\n",
    "Differentiatiing Bellman equation above with respect to B', we get\n",
    "\n",
    "$$ \\frac {dV}{dB} = p - p \\frac {dB'}{dB} + \\frac{1}{1+r}\\frac {dV'}{dB'}  \\frac {dB'}{dB} $$\n",
    "\n",
    "Which can further be written as \n",
    "\n",
    "$$ \\frac {dV}{dB} = p - \\bigg(p  - \\frac{1}{1+r}\\frac {dV'}{dB'} \\bigg) \\frac {dB'}{dB} $$\n",
    "\n",
    "From above, and application of envelope theorem, we know that the term within the brackets is 0\n",
    "\n",
    "Hence, using both the equations we can conclude that the euler equation is:\n",
    "\n",
    "$$ p_{t+1} = p_{t}*(1+r) $$\n",
    "\n"
   ]
  },
  {
   "cell_type": "markdown",
   "metadata": {},
   "source": [
    "### Question 1.6"
   ]
  },
  {
   "cell_type": "markdown",
   "metadata": {},
   "source": [
    "6(a) . If $ p_{t+1} =  p_{t} $ then given that r is positive, it would mean that the future value of the oil is lower than the present value of oil. Therefore, it may be optimal for the owner to extract all of the oil in the first period itself to maximize its' utility.\n",
    "\n",
    "6(b) . If $ p_{t+1} > (1+r) p_{t} $ then given that r is positive, it would mean that the future value of the oil is always greater than the present value of oil. Therefore, it may be optimal for the owner to never extract the oil at all to maximize its' utility.\n",
    "\n",
    "Problem 6(a) and 6(b) represent the two corner solutions to this problem\n",
    "\n",
    "Any set of prices and extractions which satisfy the euler condition derived above will be a neccessary condition for an interior solution. \n",
    "\n",
    "\n"
   ]
  }
 ],
 "metadata": {
  "kernelspec": {
   "display_name": "Python 3",
   "language": "python",
   "name": "python3"
  },
  "language_info": {
   "codemirror_mode": {
    "name": "ipython",
    "version": 3
   },
   "file_extension": ".py",
   "mimetype": "text/x-python",
   "name": "python",
   "nbconvert_exporter": "python",
   "pygments_lexer": "ipython3",
   "version": "3.6.5"
  }
 },
 "nbformat": 4,
 "nbformat_minor": 2
}
