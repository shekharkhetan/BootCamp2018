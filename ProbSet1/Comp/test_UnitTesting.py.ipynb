{
 "cells": [
  {
   "cell_type": "code",
   "execution_count": 2,
   "metadata": {},
   "outputs": [],
   "source": [
    "import UnitTesting as ut\n",
    "import pytest as pt\n",
    "def test_smallest_factor():\n",
    "    assert ut.smallest_factor(1)==1, \"Fails for 1\"\n",
    "    assert ut.smallest_factor(2)==2, \"Fails for 2\"\n",
    "    assert ut.smallest_factor(3)==3, \"Fails for 3\"\n",
    "    assert ut.smallest_factor(4)==2, \"Fails for 4\"\n",
    "    assert ut.smallest_factor(5)==5, \"Fails for 5\"\n",
    "    assert ut.smallest_factor(6)==2, \"Fails for 6\"\n",
    "    assert ut.smallest_factor(10)==2, \"Fails for 10\""
   ]
  },
  {
   "cell_type": "code",
   "execution_count": null,
   "metadata": {},
   "outputs": [],
   "source": []
  }
 ],
 "metadata": {
  "kernelspec": {
   "display_name": "Python 3",
   "language": "python",
   "name": "python3"
  },
  "language_info": {
   "codemirror_mode": {
    "name": "ipython",
    "version": 3
   },
   "file_extension": ".py",
   "mimetype": "text/x-python",
   "name": "python",
   "nbconvert_exporter": "python",
   "pygments_lexer": "ipython3",
   "version": "3.6.5"
  }
 },
 "nbformat": 4,
 "nbformat_minor": 2
}
