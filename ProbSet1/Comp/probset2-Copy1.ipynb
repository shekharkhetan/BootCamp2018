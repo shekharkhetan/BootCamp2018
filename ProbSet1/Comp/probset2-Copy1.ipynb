{
 "cells": [
  {
   "cell_type": "code",
   "execution_count": 1,
   "metadata": {},
   "outputs": [
    {
     "data": {
      "text/plain": [
       "[1, 9, 5.0]"
      ]
     },
     "execution_count": 1,
     "metadata": {},
     "output_type": "execute_result"
    }
   ],
   "source": [
    "#prob1\n",
    "def prob1(L):\n",
    "    return [min(L), max(L),(sum(L)/len(L))]\n",
    "\n",
    "prob1([1,2,3,4,5,6,7,8,9])\n",
    "\n",
    "    "
   ]
  },
  {
   "cell_type": "code",
   "execution_count": 2,
   "metadata": {},
   "outputs": [
    {
     "name": "stdout",
     "output_type": "stream",
     "text": [
      "False\n",
      "The data type is immutable\n",
      "False\n",
      "The data type is immutable\n",
      "[1, 'kumar', 3, 'shekhar']\n",
      "True\n",
      "The data type is mutable\n",
      "(1, 2, 3, 4)\n",
      "False\n",
      "The data type is immutable\n",
      "{1, 2, 3, 4}\n",
      "True\n",
      "The data type is mutable\n"
     ]
    }
   ],
   "source": [
    "#prob2_1\n",
    "A = int(10)\n",
    "B = A\n",
    "B = B + 1\n",
    "A == B\n",
    "print(A == B)\n",
    "if (A == B):\n",
    "   print('The data type is mutable')\n",
    "else: \n",
    "   print('The data type is immutable')\n",
    "\n",
    "#prob2_2\n",
    "C = str(\"shekhar\")\n",
    "D = C\n",
    "D = str(\"shekhara\")\n",
    "C == D\n",
    "print(C == D)\n",
    "if (C == D):\n",
    "   print('The data type is mutable')\n",
    "else: \n",
    "   print('The data type is immutable')\n",
    "\n",
    "#prob2_3\n",
    "E = list([1,2,3, \"shekhar\"])\n",
    "F = E\n",
    "F[1] = \"kumar\"\n",
    "print(F)\n",
    "print(F == E)\n",
    "if (\"(F == E)\" == \"False\"):\n",
    "   print('The data type is immutable')\n",
    "else: \n",
    "   print('The data type is mutable')\n",
    "\n",
    "#prob2_4\n",
    "G = (1,2,3)\n",
    "H = G\n",
    "H += (4,)\n",
    "print(H)\n",
    "print(G == H)\n",
    "if (G == H):\n",
    "   print('The data type is mutable')\n",
    "else: \n",
    "   print('The data type is immutable')\n",
    "\n",
    "#prob2_5\n",
    "I = {1,2,3}\n",
    "H = I\n",
    "H.add(4)\n",
    "print(H)\n",
    "print(H == I)\n",
    "if (H == I):\n",
    "   print('The data type is mutable')\n",
    "else: \n",
    "   print('The data type is immutable')\n"
   ]
  },
  {
   "cell_type": "code",
   "execution_count": 3,
   "metadata": {},
   "outputs": [
    {
     "data": {
      "text/plain": [
       "5.0"
      ]
     },
     "execution_count": 3,
     "metadata": {},
     "output_type": "execute_result"
    }
   ],
   "source": [
    "#prob 3\n",
    "import calculator as calc\n",
    "def length_hyp_tri(a,b):\n",
    "    LH = calc.sqrt(calc.S(calc.T(a,a), calc.T(b,b)))\n",
    "    return LH\n",
    "length_hyp_tri(3,4)\n",
    "\n"
   ]
  },
  {
   "cell_type": "code",
   "execution_count": 4,
   "metadata": {},
   "outputs": [
    {
     "data": {
      "text/plain": [
       "<itertools.cycle at 0x27fdb45ee58>"
      ]
     },
     "execution_count": 4,
     "metadata": {},
     "output_type": "execute_result"
    }
   ],
   "source": [
    "from itertools import chain, cycle\n",
    "cycle(range(4))"
   ]
  },
  {
   "cell_type": "code",
   "execution_count": 5,
   "metadata": {},
   "outputs": [],
   "source": [
    "data = dict"
   ]
  },
  {
   "cell_type": "code",
   "execution_count": 6,
   "metadata": {},
   "outputs": [
    {
     "name": "stdout",
     "output_type": "stream",
     "text": [
      "range(0, 4)\n"
     ]
    },
    {
     "data": {
      "text/plain": [
       "['a', 'b', 'c', 'c', 'd', 'e']"
      ]
     },
     "execution_count": 6,
     "metadata": {},
     "output_type": "execute_result"
    }
   ],
   "source": [
    "print(range(4))\n",
    "cycle(range(4))\n",
    "enumerate(cycle(range(4)))\n",
    "list(chain(\"abc\", 'c','d', 'e'))\n"
   ]
  },
  {
   "cell_type": "code",
   "execution_count": 7,
   "metadata": {},
   "outputs": [
    {
     "name": "stdout",
     "output_type": "stream",
     "text": [
      "0 1 2 3 0 1 2 3 0 1 2 3 0 1 2 3 0 1 2 3 0 1 2 3 0 1 2 3 0 1 2 3 0 1 2 3 0 1 2 3 0 1 2 3 0 1 2 3 0 1 2 3 0 1 2 3 0 1 2 3 0 1 2 3 0 1 2 3 0 1 2 3 0 1 2 3 0 1 2 3 0 1 2 3 0 1 2 3 0 1 2 3 0 1 2 3 0 1 2 3 0 "
     ]
    }
   ],
   "source": [
    "for i,number in enumerate(cycle(range(4))):\n",
    "    if i > 100: \n",
    "        break\n",
    "    print(number, end=' ') "
   ]
  },
  {
   "cell_type": "code",
   "execution_count": 8,
   "metadata": {},
   "outputs": [
    {
     "data": {
      "text/plain": [
       "3"
      ]
     },
     "execution_count": 8,
     "metadata": {},
     "output_type": "execute_result"
    }
   ],
   "source": [
    "len(('a', 'b', 'c'))\n"
   ]
  },
  {
   "cell_type": "code",
   "execution_count": 9,
   "metadata": {},
   "outputs": [],
   "source": [
    "# problem 4\n",
    "from itertools import combinations\n",
    "\n",
    "def Power_set(A):\n",
    "    powerset = []\n",
    "    for i in range(len(A)+1):\n",
    "        subset = combinations(A,i)\n",
    "        powerset += subset\n",
    "    \n",
    "    for j in range(len(powerset)):\n",
    "        powerset[j] = set(powerset[j])\n",
    "    return powerset\n",
    "    "
   ]
  },
  {
   "cell_type": "code",
   "execution_count": 10,
   "metadata": {},
   "outputs": [
    {
     "data": {
      "text/plain": [
       "[set(), {1}, {2}, {1, 2}]"
      ]
     },
     "execution_count": 10,
     "metadata": {},
     "output_type": "execute_result"
    }
   ],
   "source": [
    "Power_set([1,2])\n"
   ]
  },
  {
   "cell_type": "code",
   "execution_count": 11,
   "metadata": {},
   "outputs": [
    {
     "data": {
      "text/plain": [
       "[('a', 'b'), ('a', 'c'), ('b', 'c')]"
      ]
     },
     "execution_count": 11,
     "metadata": {},
     "output_type": "execute_result"
    }
   ],
   "source": [
    " list(combinations(\"abc\",2))"
   ]
  },
  {
   "cell_type": "code",
   "execution_count": null,
   "metadata": {},
   "outputs": [],
   "source": []
  },
  {
   "cell_type": "code",
   "execution_count": null,
   "metadata": {},
   "outputs": [],
   "source": []
  }
 ],
 "metadata": {
  "kernelspec": {
   "display_name": "Python 3",
   "language": "python",
   "name": "python3"
  },
  "language_info": {
   "codemirror_mode": {
    "name": "ipython",
    "version": 3
   },
   "file_extension": ".py",
   "mimetype": "text/x-python",
   "name": "python",
   "nbconvert_exporter": "python",
   "pygments_lexer": "ipython3",
   "version": "3.6.5"
  }
 },
 "nbformat": 4,
 "nbformat_minor": 2
}
