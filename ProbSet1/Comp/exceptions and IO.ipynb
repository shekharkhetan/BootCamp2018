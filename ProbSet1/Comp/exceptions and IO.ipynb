{
 "cells": [
  {
   "cell_type": "code",
   "execution_count": 6,
   "metadata": {},
   "outputs": [
    {
     "name": "stdout",
     "output_type": "stream",
     "text": [
      "Enter a 3-digit number where the first and last digits differ by 2 or more: 200\n",
      "Enter the reverse of the first number, obtained by reading it backwards: 002\n",
      "Enter the positive difference of these numbers: 198\n",
      "Enter the reverse of the previous result: 891\n",
      "198 + 891 = 1089 (ta-da!)\n"
     ]
    }
   ],
   "source": [
    "#Exercise 1\n",
    "def arithmagic():\n",
    "    step_1 = input(\"Enter a 3-digit number where the first and last \"\n",
    "    \"digits differ by 2 or more: \")\n",
    "    step_1 = int(step_1)\n",
    "    if step_1 > 999 or step_1 < 100:\n",
    "        raise ValueError(\"You must give a three digit number\")\n",
    "    ''' Get the digit values for step 1 '''\n",
    "    str_step_1 = str(step_1)\n",
    "    dig1 = int(str_step_1[0])\n",
    "    dig2 = int(str_step_1[1])\n",
    "    dig3 = int(str_step_1[2])\n",
    "    if dig1 - dig3 < 2 and dig3 - dig1 < 2:\n",
    "        raise ValueError('''The number's first and last digits must\n",
    "                         differ by at least two''')\n",
    "\n",
    "    step_2 = input(\"Enter the reverse of the first number, obtained \"\n",
    "    \"by reading it backwards: \")\n",
    "    str_step_2 = step_2\n",
    "    step_2 = int(step_2)\n",
    "    '''Now pull the individual digits. '''\n",
    "    dig1s2 = int(str_step_2[0])\n",
    "    dig2s2 = int(str_step_2[1])\n",
    "    dig3s2 = int(str_step_2[2])\n",
    "    if dig1s2 != dig3 or dig2s2 != dig2 or dig3s2 != dig1 \\\n",
    "    or step_2 > 999:\n",
    "        ''' The last statement is so I get an error if step 1 were 135\n",
    "        and step 2 is 531023928432, for example. '''\n",
    "        raise ValueError(\"You must input the previous number backwards\")\n",
    "\n",
    "    step_3 = input(\"Enter the positive difference of these numbers: \")\n",
    "    if int(step_3) != abs(step_1 - step_2):\n",
    "        print(step_3, abs(step_1 - step_2))\n",
    "        raise ValueError('''Check your subtraction! Please enter the\n",
    "                         positive difference of the numbers''')\n",
    "\n",
    "    step_4 = input(\"Enter the reverse of the previous result: \")\n",
    "    '''I have no need to keep step_3 or step 4 as integers, so I'll\n",
    "    do this check more quickly: '''\n",
    "    if step_3[0] != step_4[2] or step_3[1] != step_4[1] or \\\n",
    "    step_3[2] != step_4[0] or len(step_4) > 3:\n",
    "        raise ValueError(\"You must input the previous number backwards\")\n",
    "    print(str(step_3), \"+\", str(step_4), \"= 1089 (ta-da!)\")\n",
    "arithmagic()"
   ]
  },
  {
   "cell_type": "code",
   "execution_count": 7,
   "metadata": {},
   "outputs": [
    {
     "name": "stdout",
     "output_type": "stream",
     "text": [
      "Process interrupted at iteration 267072161\n",
      "Value of the walk was:  4449\n"
     ]
    },
    {
     "data": {
      "text/plain": [
       "4449"
      ]
     },
     "execution_count": 7,
     "metadata": {},
     "output_type": "execute_result"
    }
   ],
   "source": [
    "# problem 2\n",
    "from random import choice\n",
    "\n",
    "def random_walk(max_iters=1e12):\n",
    "    walk = 0\n",
    "    directions = [1, -1]\n",
    "    \n",
    "    try:\n",
    "        for ind, ii in enumerate(range(int(max_iters))):\n",
    "            walk += choice(directions)\n",
    "    except KeyboardInterrupt:\n",
    "        print(\"Process interrupted at iteration\", ind)\n",
    "    else:\n",
    "        print(\"Process completed.\")\n",
    "    finally:   \n",
    "        print(\"Value of the walk was: \", walk)\n",
    "        return walk\n",
    "\n",
    "random_walk()"
   ]
  },
  {
   "cell_type": "code",
   "execution_count": null,
   "metadata": {},
   "outputs": [],
   "source": []
  }
 ],
 "metadata": {
  "kernelspec": {
   "display_name": "Python 3",
   "language": "python",
   "name": "python3"
  },
  "language_info": {
   "codemirror_mode": {
    "name": "ipython",
    "version": 3
   },
   "file_extension": ".py",
   "mimetype": "text/x-python",
   "name": "python",
   "nbconvert_exporter": "python",
   "pygments_lexer": "ipython3",
   "version": "3.6.5"
  }
 },
 "nbformat": 4,
 "nbformat_minor": 2
}
